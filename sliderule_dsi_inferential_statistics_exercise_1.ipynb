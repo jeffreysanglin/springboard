{
 "cells": [
  {
   "cell_type": "markdown",
   "metadata": {},
   "source": [
    "# What is the True Normal Human Body Temperature? \n",
    "\n",
    "#### Background\n",
    "\n",
    "The mean normal body temperature was held to be 37$^{\\circ}$C or 98.6$^{\\circ}$F for more than 120 years since it was first conceptualized and reported by Carl Wunderlich in a famous 1868 book. But, is this value statistically correct?"
   ]
  },
  {
   "cell_type": "markdown",
   "metadata": {},
   "source": [
    "<h3>Exercises</h3>\n",
    "\n",
    "<p>In this exercise, you will analyze a dataset of human body temperatures and employ the concepts of hypothesis testing, confidence intervals, and statistical significance.</p>\n",
    "\n",
    "<p>Answer the following questions <b>in this notebook below and submit to your Github account</b>.</p> \n",
    "\n",
    "<ol>\n",
    "<li>  Is the distribution of body temperatures normal? \n",
    "    <ul>\n",
    "    <li> Although this is not a requirement for the Central Limit Theorem to hold (read the introduction on Wikipedia's page about the CLT carefully: https://en.wikipedia.org/wiki/Central_limit_theorem), it gives us some peace of mind that the population may also be normally distributed if we assume that this sample is representative of the population.\n",
    "    <li> Think about the way you're going to check for the normality of the distribution. Graphical methods are usually used first, but there are also other ways: https://en.wikipedia.org/wiki/Normality_test\n",
    "    </ul>\n",
    "<li>  Is the sample size large? Are the observations independent?\n",
    "    <ul>\n",
    "    <li> Remember that this is a condition for the Central Limit Theorem, and hence the statistical tests we are using, to apply.\n",
    "    </ul>\n",
    "<li>  Is the true population mean really 98.6 degrees F?\n",
    "    <ul>\n",
    "    <li> First, try a bootstrap hypothesis test.\n",
    "    <li> Now, let's try frequentist statistical testing. Would you use a one-sample or two-sample test? Why?\n",
    "    <li> In this situation, is it appropriate to use the $t$ or $z$ statistic? \n",
    "    <li> Now try using the other test. How is the result be different? Why?\n",
    "    </ul>\n",
    "<li>  Draw a small sample of size 10 from the data and repeat both frequentist tests. \n",
    "    <ul>\n",
    "    <li> Which one is the correct one to use? \n",
    "    <li> What do you notice? What does this tell you about the difference in application of the $t$ and $z$ statistic?\n",
    "    </ul>\n",
    "<li>  At what temperature should we consider someone's temperature to be \"abnormal\"?\n",
    "    <ul>\n",
    "    <li> As in the previous example, try calculating everything using the boostrap approach, as well as the frequentist approach.\n",
    "    <li> Start by computing the margin of error and confidence interval. When calculating the confidence interval, keep in mind that you should use the appropriate formula for one draw, and not N draws.\n",
    "    </ul>\n",
    "<li>  Is there a significant difference between males and females in normal temperature?\n",
    "    <ul>\n",
    "    <li> What testing approach did you use and why?\n",
    "    <li> Write a story with your conclusion in the context of the original problem.\n",
    "    </ul>\n",
    "</ol>\n",
    "\n",
    "You can include written notes in notebook cells using Markdown: \n",
    "   - In the control panel at the top, choose Cell > Cell Type > Markdown\n",
    "   - Markdown syntax: http://nestacms.com/docs/creating-content/markdown-cheat-sheet\n",
    "\n",
    "#### Resources\n",
    "\n",
    "+ Information and data sources: http://www.amstat.org/publications/jse/datasets/normtemp.txt, http://www.amstat.org/publications/jse/jse_data_archive.htm\n",
    "+ Markdown syntax: http://nestacms.com/docs/creating-content/markdown-cheat-sheet\n",
    "\n",
    "****"
   ]
  },
  {
   "cell_type": "markdown",
   "metadata": {},
   "source": [
    "### Libraries"
   ]
  },
  {
   "cell_type": "code",
   "execution_count": 24,
   "metadata": {
    "collapsed": false
   },
   "outputs": [],
   "source": [
    "from os import path, getcwd, listdir\n",
    "\n",
    "import numpy as np\n",
    "import pandas as pd\n",
    "from scipy.stats import kurtosis, skew, shapiro, normaltest, kstest, norm, t\n",
    "from statistics import stdev\n",
    "\n",
    "from IPython.display import FileLink, Markdown\n",
    "import matplotlib.pyplot as plt\n",
    "import seaborn as sns"
   ]
  },
  {
   "cell_type": "markdown",
   "metadata": {},
   "source": [
    "### Pathing and Data"
   ]
  },
  {
   "cell_type": "code",
   "execution_count": 2,
   "metadata": {
    "collapsed": false
   },
   "outputs": [
    {
     "name": "stdout",
     "output_type": "stream",
     "text": [
      "/mnt/cephfs/hadoop-compute/phoenix/jeff.anglin/practice/springboard/tempa\n"
     ]
    }
   ],
   "source": [
    "#WDir\n",
    "LOCAL_DIR = getcwd()\n",
    "print(LOCAL_DIR)\n",
    "\n",
    "hbt_path = path.join(LOCAL_DIR, 'human_body_temperature.csv')\n",
    "\n",
    "#Import Data\n",
    "df = pd.read_csv(hbt_path)"
   ]
  },
  {
   "cell_type": "markdown",
   "metadata": {},
   "source": [
    "### UDF's"
   ]
  },
  {
   "cell_type": "code",
   "execution_count": 3,
   "metadata": {
    "collapsed": false
   },
   "outputs": [],
   "source": [
    "#Exploration\n",
    "def display_all(df,max_rows=1000,max_columns=1000):\n",
    "    \"\"\"Display a data frame within a pandas option context.\n",
    "    \"\"\"\n",
    "    with pd.option_context(\"display.max_rows\", max_rows, \"display.max_columns\", max_columns):\n",
    "        display(df)\n",
    "        \n",
    "def view(data, sample_size=5, max_rows=1000, max_columns=1000):\n",
    "    \"\"\"Display the shape and sample of observations for a dataset.\n",
    "    \"\"\"\n",
    "    print(\"DF shape: {shp}\".format(shp=df.shape))\n",
    "    with pd.option_context(\"display.max_rows\",max_rows, \"display.max_columns\", max_columns):\n",
    "        display(Markdown('##### DF Sample \\n({sple} Observations)'.format(sple=sample_size)))\n",
    "        display(data.sample(sample_size))\n",
    "    display(data.dtypes)\n",
    "    \n",
    "    \n",
    "def expHist(x,title):\n",
    "    mn = np.mean(x)\n",
    "    sdev = np.std(x)\n",
    "    _ = plt.hist(x)\n",
    "    #mean\n",
    "    _ = plt.axvline(mn,linestyle='-', color='black', alpha=0.8)\n",
    "    #s1\n",
    "    _ = plt.axvline(mn-sdev, linestyle='-', color='black', alpha = 0.65)\n",
    "    _ = plt.axvline(mn+sdev, linestyle='-', color='black', alpha = 0.65)\n",
    "    #s2\n",
    "    _ = plt.axvline(mn-sdev*2, linestyle='--', color='black', alpha = 0.50)\n",
    "    _ = plt.axvline(mn+sdev*2, linestyle='--', color='black', alpha = 0.50)\n",
    "    #s3\n",
    "    _ = plt.axvline(mn-sdev*3, linestyle='-.', color='black', alpha = 0.25)\n",
    "    _ = plt.axvline(mn+sdev*3, linestyle='-.', color='black', alpha = 0.25)\n",
    "\n",
    "    _ = plt.xlabel(title)\n",
    "    display(Markdown('#### {ttl}'.format(ttl=title)))\n",
    "    plt.show()\n",
    "    \n",
    "\n",
    "def ks_plot_norm(data):\n",
    "    length = len(data)\n",
    "    plt.figure(figsize=(12, 7))\n",
    "    plt.plot(np.sort(data), np.linspace(0, 1, len(data), endpoint=False))\n",
    "    plt.plot(np.sort(norm.rvs(loc=np.mean(data), scale=np.std(data), size=len(data))), np.linspace(0, 1, len(data), endpoint=False))\n",
    "    plt.legend('top right')\n",
    "    plt.legend(['Data', 'Theoretical Values'])\n",
    "    plt.title('Comparing CDFs for KS-Test')"
   ]
  },
  {
   "cell_type": "markdown",
   "metadata": {},
   "source": [
    "## 1. Is the distribution of body temperatures normal?"
   ]
  },
  {
   "cell_type": "markdown",
   "metadata": {
    "collapsed": true
   },
   "source": [
    "1. Is the distribution of body temperatures normal?\n",
    "  - Although this is not a requirement for the Central Limit Theorem to hold (read the introduction on Wikipedia's page about the CLT carefully: https://en.wikipedia.org/wiki/Central_limit_theorem), it gives us some peace of mind that the population may also be normally distributed if we assume that this sample is representative of the population.\n",
    "  - Think about the way you're going to check for the normality of the distribution. Graphical methods are usually used first, but there are also other ways: https://en.wikipedia.org/wiki/Normality_test"
   ]
  },
  {
   "cell_type": "code",
   "execution_count": 4,
   "metadata": {
    "collapsed": false,
    "scrolled": false
   },
   "outputs": [
    {
     "name": "stdout",
     "output_type": "stream",
     "text": [
      "DF shape: (130, 3)\n"
     ]
    },
    {
     "data": {
      "text/markdown": [
       "##### DF Sample \n",
       "(5 Observations)"
      ],
      "text/plain": [
       "<IPython.core.display.Markdown object>"
      ]
     },
     "metadata": {},
     "output_type": "display_data"
    },
    {
     "data": {
      "text/html": [
       "<div>\n",
       "<style scoped>\n",
       "    .dataframe tbody tr th:only-of-type {\n",
       "        vertical-align: middle;\n",
       "    }\n",
       "\n",
       "    .dataframe tbody tr th {\n",
       "        vertical-align: top;\n",
       "    }\n",
       "\n",
       "    .dataframe thead th {\n",
       "        text-align: right;\n",
       "    }\n",
       "</style>\n",
       "<table border=\"1\" class=\"dataframe\">\n",
       "  <thead>\n",
       "    <tr style=\"text-align: right;\">\n",
       "      <th></th>\n",
       "      <th>temperature</th>\n",
       "      <th>gender</th>\n",
       "      <th>heart_rate</th>\n",
       "    </tr>\n",
       "  </thead>\n",
       "  <tbody>\n",
       "    <tr>\n",
       "      <th>117</th>\n",
       "      <td>97.8</td>\n",
       "      <td>F</td>\n",
       "      <td>71.0</td>\n",
       "    </tr>\n",
       "    <tr>\n",
       "      <th>24</th>\n",
       "      <td>97.8</td>\n",
       "      <td>M</td>\n",
       "      <td>65.0</td>\n",
       "    </tr>\n",
       "    <tr>\n",
       "      <th>119</th>\n",
       "      <td>98.4</td>\n",
       "      <td>F</td>\n",
       "      <td>74.0</td>\n",
       "    </tr>\n",
       "    <tr>\n",
       "      <th>36</th>\n",
       "      <td>99.1</td>\n",
       "      <td>M</td>\n",
       "      <td>71.0</td>\n",
       "    </tr>\n",
       "    <tr>\n",
       "      <th>65</th>\n",
       "      <td>97.4</td>\n",
       "      <td>M</td>\n",
       "      <td>70.0</td>\n",
       "    </tr>\n",
       "  </tbody>\n",
       "</table>\n",
       "</div>"
      ],
      "text/plain": [
       "     temperature gender  heart_rate\n",
       "117         97.8      F        71.0\n",
       "24          97.8      M        65.0\n",
       "119         98.4      F        74.0\n",
       "36          99.1      M        71.0\n",
       "65          97.4      M        70.0"
      ]
     },
     "metadata": {},
     "output_type": "display_data"
    },
    {
     "data": {
      "text/plain": [
       "temperature    float64\n",
       "gender          object\n",
       "heart_rate     float64\n",
       "dtype: object"
      ]
     },
     "metadata": {},
     "output_type": "display_data"
    },
    {
     "data": {
      "text/html": [
       "<div>\n",
       "<style scoped>\n",
       "    .dataframe tbody tr th:only-of-type {\n",
       "        vertical-align: middle;\n",
       "    }\n",
       "\n",
       "    .dataframe tbody tr th {\n",
       "        vertical-align: top;\n",
       "    }\n",
       "\n",
       "    .dataframe thead th {\n",
       "        text-align: right;\n",
       "    }\n",
       "</style>\n",
       "<table border=\"1\" class=\"dataframe\">\n",
       "  <thead>\n",
       "    <tr style=\"text-align: right;\">\n",
       "      <th></th>\n",
       "      <th>temperature</th>\n",
       "      <th>heart_rate</th>\n",
       "    </tr>\n",
       "  </thead>\n",
       "  <tbody>\n",
       "    <tr>\n",
       "      <th>count</th>\n",
       "      <td>130.000000</td>\n",
       "      <td>130.000000</td>\n",
       "    </tr>\n",
       "    <tr>\n",
       "      <th>mean</th>\n",
       "      <td>98.249231</td>\n",
       "      <td>73.761538</td>\n",
       "    </tr>\n",
       "    <tr>\n",
       "      <th>std</th>\n",
       "      <td>0.733183</td>\n",
       "      <td>7.062077</td>\n",
       "    </tr>\n",
       "    <tr>\n",
       "      <th>min</th>\n",
       "      <td>96.300000</td>\n",
       "      <td>57.000000</td>\n",
       "    </tr>\n",
       "    <tr>\n",
       "      <th>25%</th>\n",
       "      <td>97.800000</td>\n",
       "      <td>69.000000</td>\n",
       "    </tr>\n",
       "    <tr>\n",
       "      <th>50%</th>\n",
       "      <td>98.300000</td>\n",
       "      <td>74.000000</td>\n",
       "    </tr>\n",
       "    <tr>\n",
       "      <th>75%</th>\n",
       "      <td>98.700000</td>\n",
       "      <td>79.000000</td>\n",
       "    </tr>\n",
       "    <tr>\n",
       "      <th>max</th>\n",
       "      <td>100.800000</td>\n",
       "      <td>89.000000</td>\n",
       "    </tr>\n",
       "  </tbody>\n",
       "</table>\n",
       "</div>"
      ],
      "text/plain": [
       "       temperature  heart_rate\n",
       "count   130.000000  130.000000\n",
       "mean     98.249231   73.761538\n",
       "std       0.733183    7.062077\n",
       "min      96.300000   57.000000\n",
       "25%      97.800000   69.000000\n",
       "50%      98.300000   74.000000\n",
       "75%      98.700000   79.000000\n",
       "max     100.800000   89.000000"
      ]
     },
     "metadata": {},
     "output_type": "display_data"
    }
   ],
   "source": [
    "view(df)\n",
    "display(df.describe())"
   ]
  },
  {
   "cell_type": "code",
   "execution_count": 5,
   "metadata": {
    "collapsed": false
   },
   "outputs": [
    {
     "data": {
      "text/markdown": [
       "#### Body Temperature"
      ],
      "text/plain": [
       "<IPython.core.display.Markdown object>"
      ]
     },
     "metadata": {},
     "output_type": "display_data"
    },
    {
     "data": {
      "image/png": "[encoded data removed]",
      "text/plain": [
       "<Figure size 432x288 with 1 Axes>"
      ]
     },
     "metadata": {
      "needs_background": "light"
     },
     "output_type": "display_data"
    },
    {
     "data": {
      "text/markdown": [
       "#### Heart Rate"
      ],
      "text/plain": [
       "<IPython.core.display.Markdown object>"
      ]
     },
     "metadata": {},
     "output_type": "display_data"
    },
    {
     "data": {
      "image/png": "[encoded data removed]",
      "text/plain": [
       "<Figure size 432x288 with 1 Axes>"
      ]
     },
     "metadata": {
      "needs_background": "light"
     },
     "output_type": "display_data"
    }
   ],
   "source": [
    "expHist(df.temperature, title=\"Body Temperature\")\n",
    "\n",
    "expHist(df.heart_rate, title=\"Heart Rate\")"
   ]
  },
  {
   "cell_type": "code",
   "execution_count": 6,
   "metadata": {
    "collapsed": false
   },
   "outputs": [
    {
     "data": {
      "text/markdown": [
       "#### Skewness: -0.004 | Kurtosis: 0.705"
      ],
      "text/plain": [
       "<IPython.core.display.Markdown object>"
      ]
     },
     "metadata": {},
     "output_type": "display_data"
    },
    {
     "data": {
      "text/markdown": [
       "### D'Agostino test:"
      ],
      "text/plain": [
       "<IPython.core.display.Markdown object>"
      ]
     },
     "metadata": {},
     "output_type": "display_data"
    },
    {
     "data": {
      "text/markdown": [
       "#### Stat: 2.703801433319203 | P: 0.2587479863488254 | Alpha: 0.05"
      ],
      "text/plain": [
       "<IPython.core.display.Markdown object>"
      ]
     },
     "metadata": {},
     "output_type": "display_data"
    },
    {
     "data": {
      "text/markdown": [
       "### Shapiro-Wilk"
      ],
      "text/plain": [
       "<IPython.core.display.Markdown object>"
      ]
     },
     "metadata": {},
     "output_type": "display_data"
    },
    {
     "data": {
      "text/markdown": [
       "#### Stat: 0.9865770936012268 | P: 0.233174666762352 | Alpha: 0.05"
      ],
      "text/plain": [
       "<IPython.core.display.Markdown object>"
      ]
     },
     "metadata": {},
     "output_type": "display_data"
    },
    {
     "data": {
      "text/markdown": [
       "### Kolmogorov-Smirnov"
      ],
      "text/plain": [
       "<IPython.core.display.Markdown object>"
      ]
     },
     "metadata": {},
     "output_type": "display_data"
    },
    {
     "data": {
      "text/markdown": [
       "#### Stat: 0.06385348427883908 | P: 0.6645320172840667 | Alpha: 0.05"
      ],
      "text/plain": [
       "<IPython.core.display.Markdown object>"
      ]
     },
     "metadata": {},
     "output_type": "display_data"
    },
    {
     "data": {
      "image/png": "[encoded data removed]",
      "text/plain": [
       "<Figure size 864x504 with 1 Axes>"
      ]
     },
     "metadata": {
      "needs_background": "light"
     },
     "output_type": "display_data"
    }
   ],
   "source": [
    "#Normality Test\n",
    "display(Markdown('#### Skewness: {sk} | Kurtosis: {ku}'.format(sk=round(skew(df.temperature),3), ku=round(kurtosis(df.temperature),3))))\n",
    "\n",
    "#D'Agostino\n",
    "stat,p = normaltest(df.temperature)\n",
    "display(Markdown(\"### D'Agostino test:\"))\n",
    "display(Markdown('#### Stat: {st} | P: {p} | Alpha: {a}'.format(st=stat,p=p,a=0.05)))\n",
    "\n",
    "#Shapiro-Wilk\n",
    "stat, p = shapiro(df.temperature)\n",
    "display(Markdown('### Shapiro-Wilk'))\n",
    "display(Markdown('#### Stat: {st} | P: {p} | Alpha: {a}'.format(st=stat,p=p,a=0.05)))\n",
    "\n",
    "#KS\n",
    "stat, p = kstest(df.temperature, 'norm', args=(np.mean(df.temperature),np.std(df.temperature)))\n",
    "display(Markdown('### Kolmogorov-Smirnov'))\n",
    "display(Markdown('#### Stat: {st} | P: {p} | Alpha: {a}'.format(st=stat,p=p,a=0.05)))\n",
    "ks_plot_norm(df.temperature)"
   ]
  },
  {
   "cell_type": "code",
   "execution_count": 7,
   "metadata": {
    "collapsed": true
   },
   "outputs": [],
   "source": [
    "#QQ plot"
   ]
  },
  {
   "cell_type": "markdown",
   "metadata": {},
   "source": [
    "Is the distribution of body temperature normal? __**Yes**__"
   ]
  },
  {
   "cell_type": "markdown",
   "metadata": {},
   "source": [
    "## 2. Is the sample size large? Are the observations independent?"
   ]
  },
  {
   "cell_type": "markdown",
   "metadata": {},
   "source": [
    "Is the sample size large? Are the observations independent?\n",
    "  - Remember that this is a condition for the Central Limit Theorem, and hence the statistical tests we are using, to apply."
   ]
  },
  {
   "cell_type": "code",
   "execution_count": 8,
   "metadata": {
    "collapsed": false
   },
   "outputs": [
    {
     "name": "stdout",
     "output_type": "stream",
     "text": [
      "Is sample data set large enought? True\n"
     ]
    }
   ],
   "source": [
    "def largeEnough(x):\n",
    "    if len(x) >= 30:\n",
    "        lgSample = True\n",
    "    else:\n",
    "        lgSample = False\n",
    "    return lgSample\n",
    "\n",
    "print('Is sample data set large enought? {lg}'.format(lg=largeEnough(df)))"
   ]
  },
  {
   "cell_type": "markdown",
   "metadata": {},
   "source": [
    "## 3. Is the true population mean really 98.6 degrees F?"
   ]
  },
  {
   "cell_type": "markdown",
   "metadata": {},
   "source": [
    "- First, try a bootstrap hypothesis test.\n",
    "- Now, let's try frequentist statistical testing. Would you use a one-sample or two-sample test? Why?\n",
    "- In this situation, is it appropriate to use the  tt  or  zz  statistic? \n",
    "    - If dataset has a normal distribution\n",
    "    - Ttest used for smaller samples.\n",
    "- Now try using the other test. How is the result be different? Why?"
   ]
  },
  {
   "cell_type": "code",
   "execution_count": 9,
   "metadata": {
    "collapsed": false
   },
   "outputs": [
    {
     "name": "stdout",
     "output_type": "stream",
     "text": [
      "98.24923076923078\n"
     ]
    }
   ],
   "source": [
    "H0 = 98.6\n",
    "sm = np.mean(df.temperature)\n",
    "print(sm)"
   ]
  },
  {
   "cell_type": "markdown",
   "metadata": {},
   "source": [
    "### Bootstrap Hypothess Test"
   ]
  },
  {
   "cell_type": "code",
   "execution_count": 10,
   "metadata": {
    "collapsed": false
   },
   "outputs": [
    {
     "data": {
      "text/markdown": [
       "#### Bootstrapped Means"
      ],
      "text/plain": [
       "<IPython.core.display.Markdown object>"
      ]
     },
     "metadata": {},
     "output_type": "display_data"
    },
    {
     "data": {
      "image/png": "[encoded data removed]",
      "text/plain": [
       "<Figure size 432x288 with 1 Axes>"
      ]
     },
     "metadata": {
      "needs_background": "light"
     },
     "output_type": "display_data"
    },
    {
     "name": "stdout",
     "output_type": "stream",
     "text": [
      "95% confidence interval = [96.7 99.5] Temperatures\n"
     ]
    }
   ],
   "source": [
    "#bootstrap hypothesis test\n",
    "def bootstrap(x,samples=10000):\n",
    "    \"\"\"Return a list of bootstrapped samples.\"\"\"\n",
    "    n = len(x)\n",
    "    bt_straps = [np.random.choice(x,size=n) for i in range(samples)]\n",
    "    return(bt_straps)\n",
    "\n",
    "temp_bts = bootstrap(df.temperature)\n",
    "bt_means = [np.mean(i) for i in temp_bts]\n",
    "expHist(bt_means, \"Bootstrapped Means\")\n",
    "\n",
    "# Compute the 95% confidence interval: conf_int\n",
    "conf_int = np.percentile(temp_bts,[2.5,97.5])\n",
    "\n",
    "# Print the confidence interval\n",
    "print('95% confidence interval =', conf_int, 'Temperatures')"
   ]
  },
  {
   "cell_type": "markdown",
   "metadata": {},
   "source": [
    "### Frequentist Approach\n",
    "This is a two-sample test, since it is measuring the difference between 98.6 (H0) and the sample mean, 98.2."
   ]
  },
  {
   "cell_type": "code",
   "execution_count": 11,
   "metadata": {
    "collapsed": false
   },
   "outputs": [
    {
     "name": "stdout",
     "output_type": "stream",
     "text": [
      "T Value:  -5.454823292364077\n"
     ]
    }
   ],
   "source": [
    "#frequentist statistical testing. one-sample or two-sample?\n",
    "ci = 0.95\n",
    "alpha = 0.05\n",
    "smean = np.mean(df.temperature)\n",
    "sstd = stdev(df.temperature)\n",
    "\n",
    "def ttest(x, hyp):\n",
    "    \"\"\"Uses sample standard deviation.\"\"\"\n",
    "    smean = np.mean(x)\n",
    "    sstd = stdev(x)\n",
    "    t = (smean - hyp)/(sstd/np.sqrt(len(x)))\n",
    "    return(t)\n",
    "    \n",
    "tvalue = ttest(df.temperature, 98.6)\n",
    "print('T Value: ',tvalue)"
   ]
  },
  {
   "cell_type": "markdown",
   "metadata": {
    "collapsed": true
   },
   "source": [
    "With 129 Degrees of Freedom, this t statistic results in a power of < 0.1%"
   ]
  },
  {
   "cell_type": "code",
   "execution_count": 12,
   "metadata": {
    "collapsed": false
   },
   "outputs": [
    {
     "name": "stdout",
     "output_type": "stream",
     "text": [
      "Z Value:  -0.48027041116080765\n"
     ]
    }
   ],
   "source": [
    "#Other test different? why?\n",
    "def ztest(x,hyp):\n",
    "    \"\"\"Uses population standard deviation.\"\"\"\n",
    "    smean = np.mean(x)\n",
    "    sstd = np.std(x)\n",
    "    z = (smean - hyp)/(sstd)\n",
    "    return(z)\n",
    "    \n",
    "    \n",
    "zvalue = ztest(df.temperature, 98.6)\n",
    "print('Z Value: ',zvalue)"
   ]
  },
  {
   "cell_type": "markdown",
   "metadata": {},
   "source": [
    "Z-Table Results: 32%"
   ]
  },
  {
   "cell_type": "markdown",
   "metadata": {},
   "source": [
    "## 4. Draw a small sample of size 10 from the data and repeat both frequentist tests."
   ]
  },
  {
   "cell_type": "markdown",
   "metadata": {
    "collapsed": true
   },
   "source": [
    "- Which one is the correct one to use?\n",
    "- What do you notice? What does this tell you about the difference in application of the  tt  and  zz  statistic?"
   ]
  },
  {
   "cell_type": "code",
   "execution_count": 13,
   "metadata": {
    "collapsed": true
   },
   "outputs": [],
   "source": [
    "sam_n = 10\n",
    "sample = df.temperature.sample(sam_n)"
   ]
  },
  {
   "cell_type": "code",
   "execution_count": 14,
   "metadata": {
    "collapsed": false
   },
   "outputs": [
    {
     "data": {
      "text/plain": [
       "39     96.4\n",
       "34     99.3\n",
       "74     99.0\n",
       "16     98.3\n",
       "76     98.0\n",
       "115    98.0\n",
       "80     98.8\n",
       "29     98.1\n",
       "52     98.5\n",
       "23     98.4\n",
       "Name: temperature, dtype: float64"
      ]
     },
     "metadata": {},
     "output_type": "display_data"
    }
   ],
   "source": [
    "display(sample)"
   ]
  },
  {
   "cell_type": "code",
   "execution_count": 15,
   "metadata": {
    "collapsed": false
   },
   "outputs": [
    {
     "name": "stdout",
     "output_type": "stream",
     "text": [
      "T Value:  -1.2810252304406728\n",
      "Z Value:  -0.42700841014689095\n"
     ]
    }
   ],
   "source": [
    "tvalue = ttest(sample, 98.6)\n",
    "print('T Value: ',tvalue)\n",
    "\n",
    "zvalue = ztest(sample, 98.6)\n",
    "print('Z Value: ',zvalue)"
   ]
  },
  {
   "cell_type": "markdown",
   "metadata": {},
   "source": [
    "T Test: < 10%\n",
    "\n",
    "Z Test: 32%"
   ]
  },
  {
   "cell_type": "markdown",
   "metadata": {},
   "source": [
    "## 5. Is there a significant difference between males and females in normal temperature?"
   ]
  },
  {
   "cell_type": "markdown",
   "metadata": {},
   "source": [
    "- What testing approach did you use and why?\n",
    "- Write a story with your conclusion in the context of the original problem."
   ]
  },
  {
   "cell_type": "code",
   "execution_count": 27,
   "metadata": {
    "collapsed": false
   },
   "outputs": [],
   "source": [
    "#display(df.head(1))"
   ]
  },
  {
   "cell_type": "code",
   "execution_count": 28,
   "metadata": {
    "collapsed": false,
    "scrolled": false
   },
   "outputs": [
    {
     "name": "stdout",
     "output_type": "stream",
     "text": [
      "Average Male Temp:  98.1046153846154\n",
      "Average Female Temp:  98.39384615384613\n"
     ]
    }
   ],
   "source": [
    "m = df.loc[df.loc[:,'gender']=='M','temperature']\n",
    "print('Average Male Temp: ', np.mean(m))\n",
    "f = df.loc[df.loc[:,'gender']=='F','temperature']\n",
    "print('Average Female Temp: ', np.mean(f))\n",
    "\n",
    "#for s in [m,f]:\n",
    "#    display(s.head(3))"
   ]
  },
  {
   "cell_type": "markdown",
   "metadata": {},
   "source": [
    "### Two Sample Test\n",
    "- Null Hypothesis: m1 - m2 = 0\n",
    "\n",
    "- Alternative Hyothesis: m1 - m2 != 0\n",
    "\n",
    "- Significance Lvl: 0.05\n"
   ]
  },
  {
   "cell_type": "code",
   "execution_count": 21,
   "metadata": {
    "collapsed": false
   },
   "outputs": [
    {
     "name": "stdout",
     "output_type": "stream",
     "text": [
      "Degrees of Freedom:  128\n"
     ]
    }
   ],
   "source": [
    "def degFree(x1, x2):\n",
    "    n1 = len(x1)\n",
    "    s1 = np.std(x1)\n",
    "    n2 = len(x2)\n",
    "    s2 = np.std(x2)\n",
    "    numer = (s1**2/n1 + s2**2/n2)**2\n",
    "    denom = (s1**2/n1)**2 / (n1 - 1) + (s2**2/n2)**2/(n2-1)\n",
    "    v = numer / denom\n",
    "    return(v)\n",
    "\n",
    "dfree = degFree(m,f)\n",
    "print('Degrees of Freedom: ',round(dfree))"
   ]
  },
  {
   "cell_type": "code",
   "execution_count": 22,
   "metadata": {
    "collapsed": false
   },
   "outputs": [
    {
     "name": "stdout",
     "output_type": "stream",
     "text": [
      "T Value:  -2.3032202891940123\n"
     ]
    }
   ],
   "source": [
    "def tTest2(x1,x2):\n",
    "    m1 = np.mean(x1)\n",
    "    s1 = np.std(x1)\n",
    "    n1 = len(x1)\n",
    "    m2 = np.mean(x2)\n",
    "    s2 = np.std(x2)\n",
    "    n2 = len(x2)\n",
    "    numer = (m1 - m2)\n",
    "    denom = np.sqrt(s1**2/n1 + s2**2/n2)\n",
    "    t = numer/denom\n",
    "    return(t)\n",
    "\n",
    "tvalue = tTest2(m,f)\n",
    "print('T Value: ',tvalue)"
   ]
  },
  {
   "cell_type": "code",
   "execution_count": 25,
   "metadata": {
    "collapsed": false
   },
   "outputs": [
    {
     "name": "stdout",
     "output_type": "stream",
     "text": [
      "P Value:  0.9885572293138852\n"
     ]
    }
   ],
   "source": [
    "p = 1 - t.cdf(tvalue,df=dfree)\n",
    "print('P Value: ',p)"
   ]
  },
  {
   "cell_type": "markdown",
   "metadata": {},
   "source": [
    "## The Difference in Mean Body Temperature by Gender"
   ]
  },
  {
   "cell_type": "markdown",
   "metadata": {},
   "source": [
    "From a sample of 130 observations, it was determined that men and women have statistically different mean body temperatures. Women have an average temperature of 98.4 degrees (F) while men have an average temperature of 98.1. \n",
    "\n",
    "Both are quite different than the average (98.6) proposed by Wunderlich in 1868."
   ]
  },
  {
   "cell_type": "code",
   "execution_count": null,
   "metadata": {
    "collapsed": true
   },
   "outputs": [],
   "source": []
  }
 ],
 "metadata": {
  "kernelspec": {
   "display_name": "Python 3 (General DS)",
   "language": "python",
   "name": "python3"
  },
  "language_info": {
   "codemirror_mode": {
    "name": "ipython",
    "version": 3
   },
   "file_extension": ".py",
   "mimetype": "text/x-python",
   "name": "python",
   "nbconvert_exporter": "python",
   "pygments_lexer": "ipython3",
   "version": "3.6.4"
  }
 },
 "nbformat": 4,
 "nbformat_minor": 1
}
