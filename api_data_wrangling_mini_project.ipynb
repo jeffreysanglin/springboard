{
 "cells": [
  {
   "cell_type": "markdown",
   "metadata": {},
   "source": [
    "This exercise will require you to pull some data from the Qunadl API. Qaundl is currently the most widely used aggregator of financial market data."
   ]
  },
  {
   "cell_type": "markdown",
   "metadata": {},
   "source": [
    "As a first step, you will need to register a free account on the http://www.quandl.com website."
   ]
  },
  {
   "cell_type": "markdown",
   "metadata": {},
   "source": [
    "After you register, you will be provided with a unique API key, that you should store:"
   ]
  },
  {
   "cell_type": "code",
   "execution_count": 1,
   "metadata": {
    "collapsed": true
   },
   "outputs": [],
   "source": [
    "# Store the API key as a string - according to PEP8, constants are always named in all upper case\n",
    "API_KEY = '<your_api_key>'"
   ]
  },
  {
   "cell_type": "markdown",
   "metadata": {},
   "source": [
    "Qaundl has a large number of data sources, but, unfortunately, most of them require a Premium subscription. Still, there are also a good number of free datasets."
   ]
  },
  {
   "cell_type": "markdown",
   "metadata": {},
   "source": [
    "For this mini project, we will focus on equities data from the Frankfurt Stock Exhange (FSE), which is available for free. We'll try and analyze the stock prices of a company called Carl Zeiss Meditec, which manufactures tools for eye examinations, as well as medical lasers for laser eye surgery: https://www.zeiss.com/meditec/int/home.html. The company is listed under the stock ticker AFX_X."
   ]
  },
  {
   "cell_type": "markdown",
   "metadata": {},
   "source": [
    "You can find the detailed Quandl API instructions here: https://docs.quandl.com/docs/time-series"
   ]
  },
  {
   "cell_type": "markdown",
   "metadata": {},
   "source": [
    "While there is a dedicated Python package for connecting to the Quandl API, we would prefer that you use the *requests* package, which can be easily downloaded using *pip* or *conda*. You can find the documentation for the package here: http://docs.python-requests.org/en/master/ "
   ]
  },
  {
   "cell_type": "markdown",
   "metadata": {},
   "source": [
    "Finally, apart from the *requests* package, you are encouraged to not use any third party Python packages, such as *pandas*, and instead focus on what's available in the Python Standard Library (the *collections* module might come in handy: https://pymotw.com/3/collections/).\n",
    "Also, since you won't have access to DataFrames, you are encouraged to us Python's native data structures - preferably dictionaries, though some questions can also be answered using lists.\n",
    "You can read more on these data structures here: https://docs.python.org/3/tutorial/datastructures.html"
   ]
  },
  {
   "cell_type": "markdown",
   "metadata": {},
   "source": [
    "Keep in mind that the JSON responses you will be getting from the API map almost one-to-one to Python's dictionaries. Unfortunately, they can be very nested, so make sure you read up on indexing dictionaries in the documentation provided above."
   ]
  },
  {
   "cell_type": "code",
   "execution_count": 2,
   "metadata": {
    "collapsed": false
   },
   "outputs": [
    {
     "name": "stdout",
     "output_type": "stream",
     "text": [
      "https://www.quandl.com/api/v3/datasets/FSE/AFX_X/data.json?api_key=oJWR6X2ssaig65tkSPbw&start_date=2017-01-01&end_date=2018-01-01\n"
     ]
    }
   ],
   "source": [
    "# First, import the relevant modules\n",
    "from requests import get\n",
    "from json import loads\n",
    "\n",
    "db_code = 'FSE'\n",
    "ticker = 'AFX_X'\n",
    "url = 'https://www.quandl.com/api/v3/datasets/{database_code}/{dataset_code}/data.json?api_key={key}'\n",
    "url = url.format(database_code=db_code,dataset_code=ticker,key=API_KEY)\n",
    "drange = '&start_date={start_date}&end_date={end_date}'.format(start_date='2017-01-01',end_date='2018-01-01')\n",
    "url = url+drange\n",
    "print(url)"
   ]
  },
  {
   "cell_type": "code",
   "execution_count": 3,
   "metadata": {
    "collapsed": false
   },
   "outputs": [
    {
     "name": "stdout",
     "output_type": "stream",
     "text": [
      "['2017-12-29', 51.76, 51.94, 51.45, 51.76, None, 34640.0, 1792304.0, None, None, None]\n"
     ]
    }
   ],
   "source": [
    "# Now, call the Quandl API and pull out a small sample of the data (only one day) to get a glimpse\n",
    "# into the JSON structure that will be returned\n",
    "\n",
    "quandl_json = get(url).json()\n",
    "print(quandl_json['dataset_data']['data'][0])\n",
    "#print(quandl_json.json())"
   ]
  },
  {
   "cell_type": "code",
   "execution_count": 9,
   "metadata": {
    "collapsed": false,
    "scrolled": true
   },
   "outputs": [
    {
     "name": "stdout",
     "output_type": "stream",
     "text": [
      "First Key:  dataset_data\n",
      "<class 'dict'>\n",
      "limit\n",
      "transform\n",
      "column_index\n",
      "column_names\n",
      "start_date\n",
      "end_date\n",
      "frequency\n",
      "data\n",
      "Column Names:  ['Date', 'Open', 'High', 'Low', 'Close', 'Change', 'Traded Volume', 'Turnover', 'Last Price of the Day', 'Daily Traded Units', 'Daily Turnover']\n"
     ]
    }
   ],
   "source": [
    "for key, value in quandl_json.items():\n",
    "    print(\"First Key: \",key)\n",
    "    print(type(value))\n",
    "    #display(value)\n",
    "    #break\n",
    "    for k,v in value.items():\n",
    "        print(k)\n",
    "        #display(v)\n",
    "        if k == 'data' or v == 'data':\n",
    "            break\n",
    "\n",
    "print(\"Column Names: \",quandl_json['dataset_data']['column_names'])"
   ]
  },
  {
   "cell_type": "code",
   "execution_count": 5,
   "metadata": {
    "collapsed": true
   },
   "outputs": [],
   "source": [
    "# Inspect the JSON structure of the object you created, and take note of how nested it is,\n",
    "# as well as the overall structure\n"
   ]
  },
  {
   "cell_type": "markdown",
   "metadata": {},
   "source": [
    "These are your tasks for this mini project:\n",
    "\n",
    "1. Collect data from the Franfurt Stock Exchange, for the ticker AFX_X, for the whole year 2017 (keep in mind that the date format is YYYY-MM-DD).\n",
    "2. Convert the returned JSON object into a Python dictionary.\n",
    "3. Calculate what the highest and lowest opening prices were for the stock in this period.\n",
    "4. What was the largest change in any one day (based on High and Low price)?\n",
    "5. What was the largest change between any two days (based on Closing Price)?\n",
    "6. What was the average daily trading volume during this year?\n",
    "7. (Optional) What was the median trading volume during this year. (Note: you may need to implement your own function for calculating the median.)"
   ]
  },
  {
   "cell_type": "code",
   "execution_count": 6,
   "metadata": {
    "collapsed": false
   },
   "outputs": [
    {
     "name": "stdout",
     "output_type": "stream",
     "text": [
      "https://www.quandl.com/api/v3/datasets/FSE/AFX_X/data.json?api_key=oJWR6X2ssaig65tkSPbw&start_date=2017-01-01&end_date=2018-01-01\n"
     ]
    }
   ],
   "source": [
    "#1. & 2.\n",
    "db_code = 'FSE'\n",
    "ticker = 'AFX_X'\n",
    "url = 'https://www.quandl.com/api/v3/datasets/{database_code}/{dataset_code}/data.json?api_key={key}'\n",
    "url = url.format(database_code=db_code,dataset_code=ticker,key=API_KEY)\n",
    "drange = '&start_date={start_date}&end_date={end_date}'.format(start_date='2017-01-01',end_date='2018-01-01')\n",
    "url = url+drange\n",
    "print(url)\n",
    "\n",
    "quandl_json = get(url).json()"
   ]
  },
  {
   "cell_type": "code",
   "execution_count": 21,
   "metadata": {
    "collapsed": false
   },
   "outputs": [],
   "source": [
    "#3. Calculate what the highest and lowest opening prices were for the stock in this period.\n",
    "openings = {}\n",
    "for i in quandl_json['dataset_data']['data']:\n",
    "    if i[1] and i[0]:\n",
    "        openings[i[0]] = i[1]\n",
    "\n",
    "sorted_openings = sorted(openings.items(), key=lambda kv: kv[1])\n",
    "\n",
    "high_open = sorted_openings[-1]\n",
    "low_open = sorted_openings[0]"
   ]
  },
  {
   "cell_type": "code",
   "execution_count": 25,
   "metadata": {
    "collapsed": false
   },
   "outputs": [],
   "source": [
    "#4. What was the largest change in any one day (based on High and Low price)?\n",
    "changes = {}\n",
    "for i in quandl_json['dataset_data']['data']:\n",
    "    if i[3] and i[2] and i[0]:\n",
    "        changes[i[0]] = i[2] - i[3]\n",
    "\n",
    "sorted_ch = sorted(changes.items(), key=lambda kv: kv[1])\n",
    "large_ch = sorted_ch[-1]"
   ]
  },
  {
   "cell_type": "code",
   "execution_count": 33,
   "metadata": {
    "collapsed": false
   },
   "outputs": [],
   "source": [
    "#5. What was the largest change between any two days (based on Closing Price)?\n",
    "q_data = quandl_json['dataset_data']['data']\n",
    "changesC = {}\n",
    "\n",
    "for i in range(len(q_data)):\n",
    "    try:\n",
    "        changesC[q_data[i][0]] = q_data[i+1][4] - q_data[i][4]\n",
    "    except IndexError:\n",
    "        break\n",
    "    \n",
    "sorted_chC = sorted(changesC.items(), key=lambda kv: kv[1])\n",
    "large_chC = sorted_chC[-1]"
   ]
  },
  {
   "cell_type": "code",
   "execution_count": 37,
   "metadata": {
    "collapsed": false
   },
   "outputs": [],
   "source": [
    "#6. What was the average daily trading volume during this year? Trade Volume = 6 element\n",
    "vol_sum = 0\n",
    "vol_med = []\n",
    "for i in q_data:\n",
    "    vol_sum = vol_sum + i[6]\n",
    "    vol_med.append(i[6])\n",
    "\n",
    "vol_av = vol_sum/len(q_data)"
   ]
  },
  {
   "cell_type": "code",
   "execution_count": 46,
   "metadata": {
    "collapsed": false
   },
   "outputs": [
    {
     "name": "stdout",
     "output_type": "stream",
     "text": [
      "76286.0\n"
     ]
    }
   ],
   "source": [
    "#7. (Optional) What was the median trading volume during this year. \n",
    "#(Note: you may need to implement your own function for calculating the median.)\n",
    "vol_med = sorted(vol_med)\n",
    "medi = vol_med[round(len(vol_med)/2)-1]\n",
    "print(medi)"
   ]
  },
  {
   "cell_type": "code",
   "execution_count": null,
   "metadata": {
    "collapsed": true
   },
   "outputs": [],
   "source": []
  }
 ],
 "metadata": {
  "kernelspec": {
   "display_name": "Python 3 (General DS)",
   "language": "python",
   "name": "python3"
  },
  "language_info": {
   "codemirror_mode": {
    "name": "ipython",
    "version": 3
   },
   "file_extension": ".py",
   "mimetype": "text/x-python",
   "name": "python",
   "nbconvert_exporter": "python",
   "pygments_lexer": "ipython3",
   "version": "3.6.4"
  }
 },
 "nbformat": 4,
 "nbformat_minor": 2
}
